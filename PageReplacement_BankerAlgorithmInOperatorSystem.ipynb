{
 "cells": [
  {
   "cell_type": "markdown",
   "id": "e32315ed",
   "metadata": {},
   "source": [
    "# Thuật toán FIFO"
   ]
  },
  {
   "cell_type": "code",
   "execution_count": 182,
   "id": "1ededed9",
   "metadata": {},
   "outputs": [
    {
     "name": "stdout",
     "output_type": "stream",
     "text": [
      "Thuật toán FIFO\n",
      "1  3  5  6  3  5  7  1  4  7  5  3  1  6  3  2  4  1  3  7\n",
      "1  1  1  6  6  6  6  6  4  4  4  4  1  1  1  1  4  4  4  7\n",
      "   3  3  3  3  3  7  7  7  7  5  5  5  6  6  6  6  1  1  1\n",
      "      5  5  5  5  5  1  1  1  1  3  3  3  3  2  2  2  3  3\n",
      "*  *  *  *        *  *  *     *  *  *  *     *  *  *  *  *\n",
      "Số lỗi: 16\n"
     ]
    }
   ],
   "source": [
    "#Thuật toán FIFO\n",
    "lst= [1,3,5,6,3,5,7,1,4,7,5,3,1,6,3,2,4,1,3,7]\n",
    "row1=[]\n",
    "row2=[]\n",
    "row3=[]\n",
    "cache=[]\n",
    "index=0\n",
    "mistake=[]\n",
    "for i in range(len(lst)):\n",
    "    if i<3:\n",
    "        row1.append(lst[0])\n",
    "        if i>=1:\n",
    "            row2.append(lst[1])\n",
    "        else:\n",
    "            row2.append(\" \")\n",
    "        if i==2:\n",
    "            row3.append(lst[2])\n",
    "        else:\n",
    "            row3.append(\" \")\n",
    "        cache.append(lst[i])\n",
    "        mistake.append(\"*\")\n",
    "    elif len(cache)==3:\n",
    "        if lst[i] not in cache:\n",
    "            cache[index]=lst[i]\n",
    "            index+=1\n",
    "            if index==3:\n",
    "                index =0\n",
    "            row1.append(cache[0])\n",
    "            row2.append(cache[1])\n",
    "            row3.append(cache[2])\n",
    "            mistake.append(\"*\")\n",
    "        else:\n",
    "            row1.append(cache[0])\n",
    "            row2.append(cache[1])\n",
    "            row3.append(cache[2])\n",
    "            mistake.append(\" \")\n",
    "lst=[str(i) for i in lst]\n",
    "row1=[str(i) for i in row1]\n",
    "row2=[str(i) for i in row2]\n",
    "row3=[str(i) for i in row3]\n",
    "print(\"Thuật toán FIFO\")\n",
    "print(\"  \".join(lst))\n",
    "print(\"  \".join(row1))\n",
    "print(\"  \".join(row2))\n",
    "print(\"  \".join(row3))\n",
    "print(\"  \".join(mistake))\n",
    "print(\"Số lỗi:\",mistake.count(\"*\"))"
   ]
  },
  {
   "cell_type": "code",
   "execution_count": 178,
   "id": "14389560",
   "metadata": {},
   "outputs": [
    {
     "data": {
      "text/plain": [
       "{'1', '2', '3', '4', '5', '6', '7'}"
      ]
     },
     "execution_count": 178,
     "metadata": {},
     "output_type": "execute_result"
    }
   ],
   "source": [
    "set(lst)"
   ]
  },
  {
   "cell_type": "markdown",
   "id": "f43b9d28",
   "metadata": {},
   "source": [
    "# Thuật toán tối ưu"
   ]
  },
  {
   "cell_type": "code",
   "execution_count": 183,
   "id": "b21bc539",
   "metadata": {},
   "outputs": [
    {
     "name": "stdout",
     "output_type": "stream",
     "text": [
      "Thuật toán Tối ưu:\n",
      "1  3  5  6  3  5  7  1  4  7  5  3  1  6  3  2  4  1  3  7\n",
      "1  1  1  6  6  6  7  7  7  7  7  7  1  6  6  2  2  1  1  7\n",
      "   3  3  3  3  3  3  1  4  4  4  4  4  4  4  4  4  4  4  4\n",
      "      5  5  5  5  5  5  5  5  5  3  3  3  3  3  3  3  3  3\n",
      "*  *  *  *        *  *  *        *  *  *     *     *     *\n",
      "Số lỗi: 13\n"
     ]
    }
   ],
   "source": [
    "#Thuật toán Tối Ưu\n",
    "lst= [1,3,5,6,3,5,7,1,4,7,5,3,1,6,3,2,4,1,3,7]\n",
    "row1=[]\n",
    "row2=[]\n",
    "row3=[]\n",
    "cache=[]\n",
    "mistake=[]\n",
    "def longest(ca,ls):\n",
    "    re=[]\n",
    "    for i in ca:\n",
    "        if i in ls:\n",
    "            r=ls.index(i)\n",
    "            re.append(r)\n",
    "        elif i not in ls:\n",
    "            re.append(-1)\n",
    "    length=max(re)\n",
    "    result=ls[length]\n",
    "    if -1 in re:\n",
    "        count= re.count(-1)\n",
    "        if count==1:\n",
    "            result=ca[re.index(-1)]\n",
    "        elif count==2:\n",
    "            couple=[]\n",
    "            for i in range(len(re)):\n",
    "                if re[i]==-1:\n",
    "                    couple.append(i)\n",
    "            index= couple[0] if ca[couple[0]]<ca[couple[1]] else couple[1]\n",
    "            result= ca[index]\n",
    "        else:\n",
    "            result= min(ca)\n",
    "    return result\n",
    "for i in range(len(lst)):\n",
    "    if i<3:\n",
    "        row1.append(lst[0])\n",
    "        if i>=1:\n",
    "            row2.append(lst[1])\n",
    "        else:\n",
    "            row2.append(\" \")\n",
    "        if i==2:\n",
    "            row3.append(lst[2])\n",
    "        else:\n",
    "            row3.append(\" \")\n",
    "        cache.append(lst[i])\n",
    "        mistake.append(\"*\")\n",
    "    elif len(cache)==3:\n",
    "        if lst[i] not in cache:\n",
    "            longest_factor = longest(cache,lst[i:])\n",
    "            cache[cache.index(longest_factor)]=lst[i]\n",
    "            row1.append(cache[0])\n",
    "            row2.append(cache[1])\n",
    "            row3.append(cache[2])\n",
    "            mistake.append(\"*\")\n",
    "        else:\n",
    "            row1.append(cache[0])\n",
    "            row2.append(cache[1])\n",
    "            row3.append(cache[2])\n",
    "            mistake.append(\" \")\n",
    "lst=[str(i) for i in lst]\n",
    "row1=[str(i) for i in row1]\n",
    "row2=[str(i) for i in row2]\n",
    "row3=[str(i) for i in row3]\n",
    "print(\"Thuật toán Tối ưu:\")\n",
    "print(\"  \".join(lst))\n",
    "print(\"  \".join(row1))\n",
    "print(\"  \".join(row2))\n",
    "print(\"  \".join(row3))\n",
    "print(\"  \".join(mistake))\n",
    "print(\"Số lỗi:\",mistake.count(\"*\"))"
   ]
  },
  {
   "cell_type": "markdown",
   "id": "4d04e1a3",
   "metadata": {},
   "source": [
    "# Thuật toán LRU"
   ]
  },
  {
   "cell_type": "code",
   "execution_count": 184,
   "id": "a1ef7fdb",
   "metadata": {},
   "outputs": [
    {
     "name": "stdout",
     "output_type": "stream",
     "text": [
      "Thuật toán LRU:\n",
      "1  3  5  6  3  5  7  1  4  7  5  3  1  6  3  2  4  1  3  7\n",
      "1  1  1  6  6  6  7  7  7  7  7  7  1  1  1  2  2  2  3  3\n",
      "   3  3  3  3  3  3  1  1  1  5  5  5  6  6  6  4  4  4  7\n",
      "      5  5  5  5  5  5  4  4  4  3  3  3  3  3  3  1  1  1\n",
      "*  *  *  *        *  *  *     *  *  *  *     *  *  *  *  *\n",
      "Số lỗi: 16\n"
     ]
    }
   ],
   "source": [
    "#Thuật toán LRU\n",
    "lst= [1,3,5,6,3,5,7,1,4,7,5,3,1,6,3,2,4,1,3,7]\n",
    "row1=[]\n",
    "row2=[]\n",
    "row3=[]\n",
    "cache=[]\n",
    "used=[]\n",
    "mistake=[]\n",
    "for i in range(len(lst)):\n",
    "    if i<3:\n",
    "        row1.append(lst[0])\n",
    "        if i>=1:\n",
    "            row2.append(lst[1])\n",
    "        else:\n",
    "            row2.append(\" \")\n",
    "        if i==2:\n",
    "            row3.append(lst[2])\n",
    "        else:\n",
    "            row3.append(\" \")\n",
    "        cache.append(lst[i])\n",
    "        used.append(lst[i])\n",
    "        mistake.append(\"*\")\n",
    "    elif len(cache)==3:\n",
    "        if lst[i] not in cache:\n",
    "            index = cache.index(used[0])\n",
    "            cache[index]=lst[i]\n",
    "            used.remove(used[0])\n",
    "            used.append(lst[i])\n",
    "            if index==3:\n",
    "                index =0\n",
    "            row1.append(cache[0])\n",
    "            row2.append(cache[1])\n",
    "            row3.append(cache[2])\n",
    "            mistake.append(\"*\")\n",
    "        else:\n",
    "            used.remove(lst[i])\n",
    "            used.append(lst[i])\n",
    "            row1.append(cache[0])\n",
    "            row2.append(cache[1])\n",
    "            row3.append(cache[2])\n",
    "            mistake.append(\" \")\n",
    "lst=[str(i) for i in lst]\n",
    "row1=[str(i) for i in row1]\n",
    "row2=[str(i) for i in row2]\n",
    "row3=[str(i) for i in row3]\n",
    "print(\"Thuật toán LRU:\")\n",
    "print(\"  \".join(lst))\n",
    "print(\"  \".join(row1))\n",
    "print(\"  \".join(row2))\n",
    "print(\"  \".join(row3))\n",
    "print(\"  \".join(mistake))\n",
    "print(\"Số lỗi:\",mistake.count(\"*\"))"
   ]
  },
  {
   "cell_type": "markdown",
   "id": "5978ae56",
   "metadata": {},
   "source": [
    "# Thuật toán Banking"
   ]
  },
  {
   "cell_type": "code",
   "execution_count": 181,
   "id": "df4f9310",
   "metadata": {},
   "outputs": [
    {
     "name": "stdout",
     "output_type": "stream",
     "text": [
      "a.Ma trận Needij= Maxij–Allocationij \n",
      "Ma trận Need:\n",
      " [[0 7 5 0]\n",
      " [0 0 0 0]\n",
      " [1 0 0 2]\n",
      " [0 0 2 0]\n",
      " [0 6 4 2]]\n",
      "b.Tìm chuỗi an toàn, đầu tiên thử với i=1,2,..., ta được P2\n",
      "i=2   Need2 =[0 0 0 0]<=Work=[1 5 2 0]?  Thoả mãn \n",
      "=> Chuỗi an toàn nếu có thì P2 đứng đầu và dùng bảng sau để lưu kết quả các bước \n",
      "Work>=\t\tNeed[i]\t\tP[i]\tAllocation[i]\n",
      "[1 5 2 0]\t[0 0 0 0]\tP2\t[0 0 1 2]\n",
      "[1 5 3 2]\t[1 0 0 2]\tP3\t[1 3 5 4]\n",
      "[2 8 8 6]\t[0 0 2 0]\tP4\t[0 6 3 2]\n",
      "[ 2 14 11  8]\t[0 6 4 2]\tP5\t[0 0 1 4]\n",
      "[ 2 14 12 12]\t[0 7 5 0]\tP1\t[1 0 0 0]\n",
      "Kết luận: Hệ thống an toàn vì tìm được ít nhất một chuỗi an toàn <,,,,,>\n"
     ]
    }
   ],
   "source": [
    "import numpy as np\n",
    "allocation_mt=np.array([[1,0,0,0],[0,0,1,2],[1,3,5,4],[0,6,3,2],[0,0,1,4]])\n",
    "max_mt=np.array([[1,7,5,0],[0,0,1,2],[2,3,5,6],[0,6,5,2],[0,6,5,6]])\n",
    "available= np.array([1,5,2,0])\n",
    "need_mt= max_mt - allocation_mt\n",
    "work = np.array([i for i in available])\n",
    "work_step=np.array([i for i in work])\n",
    "step=[]\n",
    "while len(step) != 5:\n",
    "    for i in range(len(need_mt)):\n",
    "        if i not in step:\n",
    "            check =work - need_mt[i]\n",
    "            if True not in (check < 0):\n",
    "                work += allocation_mt[i]\n",
    "                step.append(i)\n",
    "                work_step=np.vstack((work_step,work))\n",
    "print(\"a.Ma trận Needij= Maxij–Allocationij \")\n",
    "print(\"Ma trận Need:\\n\",need_mt)\n",
    "steps=[i+1 for i in step]\n",
    "count=0\n",
    "print(f\"b.Tìm chuỗi an toàn, đầu tiên thử với i=1,2,..., ta được P{steps[0]}\")\n",
    "print(f\"i={steps[0]}   Need{steps[0]} ={need_mt[step[0]]}<=Work={work_step[0]}?  Thoả mãn \\n=> Chuỗi an toàn nếu có thì P{steps[0]} đứng đầu và dùng bảng sau để lưu kết quả các bước \")\n",
    "print(\"Work>=\\t\\tNeed[i]\\t\\tP[i]\\tAllocation[i]\")\n",
    "for i in step:\n",
    "    print(work_step[count],need_mt[i],f\"P{str(steps[count])}\",allocation_mt[i],sep=\"\\t\")\n",
    "    count+=1\n",
    "print(\"Kết luận: Hệ thống an toàn vì tìm được ít nhất một chuỗi an toàn <,,,,,>\")"
   ]
  },
  {
   "cell_type": "code",
   "execution_count": 185,
   "id": "3e5bd723",
   "metadata": {},
   "outputs": [
    {
     "name": "stdout",
     "output_type": "stream",
     "text": [
      "a.Ma trận Needij= Maxij–Allocationij \n",
      "Ma trận Need:\n",
      " [[0 6 4 2]\n",
      " [0 7 5 0]\n",
      " [1 0 0 2]\n",
      " [0 0 2 0]\n",
      " [0 0 0 0]]\n",
      "b.Tìm chuỗi an toàn, đầu tiên thử với i=1,2,..., ta được P4\n",
      "i=4   Need4 =[0 0 2 0]<=Work=[1 5 2 0]?  Thoả mãn \n",
      "=> Chuỗi an toàn nếu có thì P4 đứng đầu và dùng bảng sau để lưu kết quả các bước \n",
      "Work>=\t\tNeed[i]\t\tP[i]\tAllocation[i]\n",
      "[1 5 2 0]\t[0 0 2 0]\tP4\t[0 6 3 2]\n",
      "[ 1 11  5  2]\t[0 0 0 0]\tP5\t[0 0 1 2]\n",
      "[ 1 11  6  4]\t[0 6 4 2]\tP1\t[0 0 1 4]\n",
      "[ 1 11  7  8]\t[0 7 5 0]\tP2\t[1 0 0 0]\n",
      "[ 2 11  7  8]\t[1 0 0 2]\tP3\t[1 3 5 4]\n"
     ]
    }
   ],
   "source": [
    "import numpy as np\n",
    "allocation_mt=np.array([[0,0,1,4],[1,0,0,0],[1,3,5,4],[0,6,3,2],[0,0,1,2]])\n",
    "max_mt=np.array([[0,6,5,6],[1,7,5,0],[2,3,5,6],[0,6,5,2],[0,0,1,2]])\n",
    "available= np.array([1,5,2,0])\n",
    "need_mt= max_mt - allocation_mt\n",
    "work = np.array([i for i in available])\n",
    "work_step=np.array([i for i in work])\n",
    "step=[]\n",
    "while len(step) != 5:\n",
    "    for i in range(len(need_mt)):\n",
    "        if i not in step:\n",
    "            check =work - need_mt[i]\n",
    "            if True not in (check < 0):\n",
    "                work += allocation_mt[i]\n",
    "                step.append(i)\n",
    "                work_step=np.vstack((work_step,work))\n",
    "print(\"a.Ma trận Needij= Maxij–Allocationij \")\n",
    "print(\"Ma trận Need:\\n\",need_mt)\n",
    "steps=[i+1 for i in step]\n",
    "count=0\n",
    "print(f\"b.Tìm chuỗi an toàn, đầu tiên thử với i=1,2,..., ta được P{steps[0]}\")\n",
    "print(f\"i={steps[0]}   Need{steps[0]} ={need_mt[step[0]]}<=Work={work_step[0]}?  Thoả mãn \\n=> Chuỗi an toàn nếu có thì P{steps[0]} đứng đầu và dùng bảng sau để lưu kết quả các bước \")\n",
    "print(\"Work>=\\t\\tNeed[i]\\t\\tP[i]\\tAllocation[i]\")\n",
    "for i in step:\n",
    "    print(work_step[count],need_mt[i],f\"P{str(steps[count])}\",allocation_mt[i],sep=\"\\t\")\n",
    "    count+=1"
   ]
  }
 ],
 "metadata": {
  "kernelspec": {
   "display_name": "Python 3",
   "language": "python",
   "name": "python3"
  },
  "language_info": {
   "codemirror_mode": {
    "name": "ipython",
    "version": 3
   },
   "file_extension": ".py",
   "mimetype": "text/x-python",
   "name": "python",
   "nbconvert_exporter": "python",
   "pygments_lexer": "ipython3",
   "version": "3.8.8"
  }
 },
 "nbformat": 4,
 "nbformat_minor": 5
}
